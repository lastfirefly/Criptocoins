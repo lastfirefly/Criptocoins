{
  "nbformat": 4,
  "nbformat_minor": 0,
  "metadata": {
    "colab": {
      "provenance": []
    },
    "kernelspec": {
      "name": "python3",
      "display_name": "Python 3"
    },
    "language_info": {
      "name": "python"
    }
  },
  "cells": [
    {
      "cell_type": "markdown",
      "source": [
        "# Módulo 5 – Criptomoedas"
      ],
      "metadata": {
        "id": "Kx1-YGadRqBX"
      }
    },
    {
      "cell_type": "markdown",
      "source": [
        "## ***Sobre o Projeto***"
      ],
      "metadata": {
        "id": "eopImIUzSexu"
      }
    },
    {
      "cell_type": "markdown",
      "source": [
        "### O QUE É PARA FAZER?\n",
        "\n",
        "Realizar uma análise exploratória histórica dos valores de\n",
        "criptomoedas.\n",
        "\n",
        "As fontes de dados que serão utilizadas no projeto estão\n",
        "disponíveis no [Kaggle](https://www.kaggle.com/datasets/sudalairajkumar/cryptocurrencypricehistory)."
      ],
      "metadata": {
        "id": "IeMXSCAESV-6"
      }
    },
    {
      "cell_type": "markdown",
      "source": [
        "## ***Desenvolvimento***"
      ],
      "metadata": {
        "id": "9HbkMzzWSvFD"
      }
    },
    {
      "cell_type": "markdown",
      "source": [
        "O projeto consistirá em algumas etapas:\n",
        "\n",
        "- Importação de dados;\n",
        "- Limpeza do dataset;\n",
        "- Organização;\n",
        "- Análise exploratória;\n",
        "- Exportação para o Banco de Dados."
      ],
      "metadata": {
        "id": "2o-QH1adS3YA"
      }
    },
    {
      "cell_type": "markdown",
      "source": [
        "### Importação dos dados"
      ],
      "metadata": {
        "id": "Vchg2EZHTJoz"
      }
    },
    {
      "cell_type": "code",
      "source": [
        "#Lendo os csv pelo link do site\n",
        "\n",
        "# Primeiro arquivo referente ao mês 11\n",
        "url1 = 'https://raw.githubusercontent.com/alsantosad/PROJECT-ROCKET/master/DADOS/precos-gasolina-etanol-11.csv'\n",
        "df1 = pd.read_csv(url1,sep=';')\n",
        "\n",
        "# Segundo arquivo referente ao mês 12\n",
        "url2 = 'https://raw.githubusercontent.com/alsantosad/PROJECT-ROCKET/master/DADOS/precos-gasolina-etanol-12.csv'\n",
        "df2 = pd.read_csv(url2,sep=';')\n",
        "\n",
        "# Lendo dataset extra de latitude e longitude de cidades\n",
        "municipios ='https://raw.githubusercontent.com/kelvins/municipios-brasileiros/main/csv/municipios.csv'\n",
        "municipios_df = pd.read_csv(municipios,sep=',')"
      ],
      "metadata": {
        "id": "8QNVWNtRTJCO"
      },
      "execution_count": null,
      "outputs": []
    },
    {
      "cell_type": "markdown",
      "source": [
        "###Limpeza dos Datasets"
      ],
      "metadata": {
        "id": "vqAij06bTQbz"
      }
    },
    {
      "cell_type": "code",
      "execution_count": null,
      "metadata": {
        "id": "axcVEvmcRpAt"
      },
      "outputs": [],
      "source": []
    },
    {
      "cell_type": "markdown",
      "source": [
        "### Organização"
      ],
      "metadata": {
        "id": "fKlY7HM1TU5s"
      }
    },
    {
      "cell_type": "code",
      "source": [],
      "metadata": {
        "id": "rK3o8rvrTXXO"
      },
      "execution_count": null,
      "outputs": []
    },
    {
      "cell_type": "markdown",
      "source": [
        "###Análise Exploratória"
      ],
      "metadata": {
        "id": "RYQ10P7dTXv1"
      }
    },
    {
      "cell_type": "code",
      "source": [],
      "metadata": {
        "id": "4XKAx8kRTahb"
      },
      "execution_count": null,
      "outputs": []
    },
    {
      "cell_type": "markdown",
      "source": [
        "###Exportação"
      ],
      "metadata": {
        "id": "sjzzDXZnTa7j"
      }
    }
  ]
}