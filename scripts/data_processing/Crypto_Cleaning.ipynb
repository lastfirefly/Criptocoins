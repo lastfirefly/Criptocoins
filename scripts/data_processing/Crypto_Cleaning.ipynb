{
  "nbformat": 4,
  "nbformat_minor": 0,
  "metadata": {
    "colab": {
      "provenance": [],
      "authorship_tag": "ABX9TyMoFnS5wcnGkx0k28fQcDbL",
      "include_colab_link": true
    },
    "kernelspec": {
      "name": "python3",
      "display_name": "Python 3"
    },
    "language_info": {
      "name": "python"
    }
  },
  "cells": [
    {
      "cell_type": "markdown",
      "metadata": {
        "id": "view-in-github",
        "colab_type": "text"
      },
      "source": [
        "<a href=\"https://colab.research.google.com/github/lastfirefly/Cryptocurrency/blob/backstage/scripts/data_processing/Crypto_Cleaning.ipynb\" target=\"_parent\"><img src=\"https://colab.research.google.com/assets/colab-badge.svg\" alt=\"Open In Colab\"/></a>"
      ]
    },
    {
      "cell_type": "markdown",
      "source": [
        "# Módulo 5 – Criptomoedas"
      ],
      "metadata": {
        "id": "Kx1-YGadRqBX"
      }
    },
    {
      "cell_type": "markdown",
      "source": [
        "## ***Sobre o Projeto***"
      ],
      "metadata": {
        "id": "eopImIUzSexu"
      }
    },
    {
      "cell_type": "markdown",
      "source": [
        "### O QUE É PARA FAZER?\n",
        "\n",
        "Realizar uma análise exploratória histórica dos valores de\n",
        "criptomoedas.\n",
        "\n",
        "As fontes de dados que serão utilizadas no projeto estão\n",
        "disponíveis no [Kaggle](https://www.kaggle.com/datasets/sudalairajkumar/cryptocurrencypricehistory)."
      ],
      "metadata": {
        "id": "IeMXSCAESV-6"
      }
    },
    {
      "cell_type": "markdown",
      "source": [
        "## ***Desenvolvimento***"
      ],
      "metadata": {
        "id": "9HbkMzzWSvFD"
      }
    },
    {
      "cell_type": "markdown",
      "source": [
        "O projeto consistirá em algumas etapas:\n",
        "\n",
        "- Importação de dados;\n",
        "- Limpeza do dataset;\n",
        "- Organização;\n",
        "- Análise exploratória;\n",
        "- Exportação para o Banco de Dados."
      ],
      "metadata": {
        "id": "2o-QH1adS3YA"
      }
    },
    {
      "cell_type": "markdown",
      "source": [
        "### Importação dos dados"
      ],
      "metadata": {
        "id": "Vchg2EZHTJoz"
      }
    },
    {
      "cell_type": "code",
      "source": [
        "#Importando bibliotecas que serão usadas\n",
        "\n",
        "import pandas as pd\n",
        "import numpy as np\n",
        "import sklearn as skt"
      ],
      "metadata": {
        "id": "372Q6dVIDo68"
      },
      "execution_count": 2,
      "outputs": []
    },
    {
      "cell_type": "code",
      "source": [
        "#Lendo os csv pelo link do site\n",
        "\n",
        "# Referente à moeda Binance\n",
        "url1 = 'https://raw.githubusercontent.com/lastfirefly/Cryptocurrency/backstage/data/source_data/coin_BinanceCoin.csv'\n",
        "bnb = pd.read_csv(url1,sep=';')\n",
        "\n",
        "# Referente à moeda Bitcoin\n",
        "url2 = 'https://raw.githubusercontent.com/lastfirefly/Cryptocurrency/backstage/data/source_data/coin_Bitcoin.csv'\n",
        "btc = pd.read_csv(url2,sep=';')\n",
        "\n",
        "# Referente à moeda Cardano\n",
        "url3 = 'https://raw.githubusercontent.com/lastfirefly/Cryptocurrency/backstage/data/source_data/coin_Cardano.csv'\n",
        "ada = pd.read_csv(url3,sep=';')\n",
        "\n",
        "# Referente à moeda Dogecoin\n",
        "url4 = 'https://raw.githubusercontent.com/lastfirefly/Cryptocurrency/backstage/data/source_data/coin_Dogecoin.csv'\n",
        "doge = pd.read_csv(url4,sep=';')\n",
        "\n",
        "# Referente à moeda Ethereum\n",
        "url5 = 'https://raw.githubusercontent.com/lastfirefly/Cryptocurrency/backstage/data/source_data/coin_Ethereum.csv'\n",
        "eth = pd.read_csv(url5,sep=';')\n",
        "\n",
        "# Referente à moeda Polkadot\n",
        "url6 = 'https://raw.githubusercontent.com/lastfirefly/Cryptocurrency/backstage/data/source_data/coin_Polkadot.csv'\n",
        "dot = pd.read_csv(url6,sep=';')\n",
        "\n",
        "# Referente à moeda Tether\n",
        "url7 = 'https://raw.githubusercontent.com/lastfirefly/Cryptocurrency/backstage/data/source_data/coin_Tether.csv'\n",
        "usdt = pd.read_csv(url7,sep=';')\n",
        "\n",
        "# Referente à moeda USDCoin\n",
        "url8 = 'https://raw.githubusercontent.com/lastfirefly/Cryptocurrency/backstage/data/source_data/coin_USDCoin.csv'\n",
        "usdc = pd.read_csv(url8,sep=';')\n",
        "\n",
        "# Referente à moeda USDCoin\n",
        "url9 = 'https://raw.githubusercontent.com/lastfirefly/Cryptocurrency/backstage/data/source_data/coin_Uniswap.csv'\n",
        "uni = pd.read_csv(url9,sep=';')\n",
        "\n",
        "# Referente à moeda USDCoin\n",
        "url10 = 'https://raw.githubusercontent.com/lastfirefly/Cryptocurrency/backstage/data/source_data/coin_XRP.csv'\n",
        "xrp = pd.read_csv(url10,sep=';')"
      ],
      "metadata": {
        "id": "8QNVWNtRTJCO"
      },
      "execution_count": 3,
      "outputs": []
    },
    {
      "cell_type": "markdown",
      "source": [
        "###Limpeza dos Datasets"
      ],
      "metadata": {
        "id": "vqAij06bTQbz"
      }
    },
    {
      "cell_type": "code",
      "execution_count": null,
      "metadata": {
        "id": "axcVEvmcRpAt"
      },
      "outputs": [],
      "source": []
    },
    {
      "cell_type": "markdown",
      "source": [
        "### Organização"
      ],
      "metadata": {
        "id": "fKlY7HM1TU5s"
      }
    },
    {
      "cell_type": "code",
      "source": [],
      "metadata": {
        "id": "rK3o8rvrTXXO"
      },
      "execution_count": null,
      "outputs": []
    },
    {
      "cell_type": "markdown",
      "source": [
        "###Análise Exploratória"
      ],
      "metadata": {
        "id": "RYQ10P7dTXv1"
      }
    },
    {
      "cell_type": "code",
      "source": [],
      "metadata": {
        "id": "4XKAx8kRTahb"
      },
      "execution_count": null,
      "outputs": []
    },
    {
      "cell_type": "markdown",
      "source": [
        "###Exportação"
      ],
      "metadata": {
        "id": "sjzzDXZnTa7j"
      }
    }
  ]
}